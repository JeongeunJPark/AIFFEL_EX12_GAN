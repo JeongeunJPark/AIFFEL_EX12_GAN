{
 "cells": [
  {
   "cell_type": "markdown",
   "metadata": {},
   "source": [
    "## Exploration 12_ CIFAR-10 이미지 생성하기         \n",
    "\n",
    "### 이 노드의 루브릭           \n",
    "1. 오브젝트 종류를 육안으로 구별할 수 있을 만한 이미지를 생성하였다.     \n",
    "2. gif를 통해 생성이미지 품질이 서서히 향상되는 것과, fake accuracy가 추세적으로 0.5를 향해 하향하고 있음을 확인하였다.          \n",
    "3. 제출 아이디어를 제출 프로젝트에 반영하고, 그 결과가 아이디어 적용 이전보다 향상되었음을 시각적으로 입증하였다.     \n",
    "\n",
    "---     \n",
    "\n",
    "### 이 노드에서 주의해야 할 점     \n",
    "1. 이미지 데이터의 shape가 데이터셋의 특성에 따라 (28,28,1)에서 (32,32,3)으로 변경되는 점        \n",
    "2. 이미지가 단색의 grayscale에서 RGB 3채널의 컬러 이미지로 변경되고, 이것이 시각화 과정에서 고려되어야 하는 점           \n",
    "3. 입력 데이터 전체 차원이 3~4배 증가하며, 학습이 진행되는 양상이 달라지는 점"
   ]
  },
  {
   "cell_type": "markdown",
   "metadata": {},
   "source": [
    "---\n",
    "### 이 노드의 목차            \n",
    "\n",
    "##### 1. 데이터셋 구성하기            \n",
    "- 학습에 사용할 train_x의 이미지를 [-1, 1]로 정규화한다.         \n",
    "- 로드한 학습 데이터를 시각화를 통해 확인한다.     \n",
    "- tf.data.Dataset 모듈의 from tensorslices()를 통해 미니배치 데이터셋을 구성한다.       \n",
    "\n",
    "##### 2. 생성자 모델 구현하기                  \n",
    "- (32,32,3)의 shape을 가진 이미지를 생성하는 생성자 모델 구현 함수를 작성한다.      \n",
    "- noise=tf.random.normal([1,100])으로 생성된 랜덤 노이지를 입력으로 기존의 생성자를 활용한 랜덤 이미지를 생성한다.           \n",
    "- 생성된 이미지가 생성자 출력 규격에 맞는지 확인한다.         \n",
    "\n",
    "##### 3. 판별자 모델 구현하기           \n",
    "- (32,32,3)의 이미지를 입력으로 받아 1dim의 판별 결과를 출력하는 판별자 모델 구현 함수를 작성한다.     \n",
    "- Step2에서 생성한 랜덤 이미지를 판별자 모델이 판별한 결과값을 확인한다.           \n",
    "\n",
    "##### 4. 손실함수와 최적화 함수 구현하기             \n",
    "- 생성자와 판별자의 손실함수(loss)를 구현해본다.           \n",
    "- 판별자의 출력값으로, 실제(real)/생성(fake) 이미지 판별 정확도를 계산하는 함수를 구현해보자.   \n",
    "- 생성자와 판별자를 최적화하는 optimizer를 정의한다.\n",
    "\n",
    "##### 5. 훈련과정 상세 기능 구현하기           \n",
    "- 1개 미니배치의 훈련 과정을 처리하는 train_step() 함수를 구현한다.        \n",
    "- 16개의 고정 시드를 입력으로 하여 훈련 과정동안 생성한 이미지를 시각화하는 generated_and_save_image()함수를 구현한다.          \n",
    "- 훈련 epoch마다 생성자/판별자의 loss 및 판별자의 실제(real)/생성(fake) 판별 accuracy를 시각화하는 draw_train_history() 함수를 구현한다.        \n",
    "- training_checkpoints 디렉토리에 몇 epoch마다 모델을 저장하는 checkpoint 모듈을 설정한다.       \n",
    "\n",
    "##### 6. 학습 과정 진행하기         \n",
    "- 최소 50epoch의 모델 학습을 진행하자.         \n",
    "- 학습 과정에서 생성된 샘플 이미지로 만든 gif로 진행과정을 시각적으로 표현해봅시다.      \n",
    "- (모델을 로드하여 재학습 필요없이 작업을 구현 가능함)         \n",
    "\n",
    "##### 7.  GAN훈련 과정 개선하기         \n",
    "- step6을 진행하며 생성된 샘플 이미지, 학습 과정 그래프 등을 통해 이전 훈련 과정의 문제점을 분석해보자.   \n",
    "- 모델 구조 또는 학습 과정을 개선한 내역과 결과를 함께 제출한다."
   ]
  },
  {
   "cell_type": "markdown",
   "metadata": {},
   "source": [
    "## 1. 데이터셋 구성하기              "
   ]
  },
  {
   "cell_type": "markdown",
   "metadata": {},
   "source": [
    "#### 필요한 라이브러리 임포트하기"
   ]
  },
  {
   "cell_type": "code",
   "execution_count": 3,
   "metadata": {},
   "outputs": [
    {
     "name": "stdout",
     "output_type": "stream",
     "text": [
      "모든 라이브러리 임포트 완료\n"
     ]
    }
   ],
   "source": [
    "#필요한 라이브러리 임포트하기\n",
    "import os\n",
    "import glob \n",
    "import time\n",
    "\n",
    "import PIL\n",
    "import imageio\n",
    "\n",
    "import numpy as np\n",
    "import tensorflow as tf \n",
    "from tensorflow.keras import layers\n",
    "from IPython import display\n",
    "\n",
    "import matplotlib.pyplot as plt\n",
    "%matplotlib inline\n",
    "\n",
    "print('모든 라이브러리 임포트 완료')"
   ]
  },
  {
   "cell_type": "code",
   "execution_count": 137,
   "metadata": {},
   "outputs": [],
   "source": [
    "# CIFAR10 데이터 로드\n",
    "cifar10 = tf.keras.datasets.cifar10\n",
    "\n",
    "(train_x,_),(test_x, _) = cifar10.load_data()"
   ]
  },
  {
   "cell_type": "code",
   "execution_count": 138,
   "metadata": {},
   "outputs": [
    {
     "name": "stdout",
     "output_type": "stream",
     "text": [
      "학습 데이터셋 :  (50000, 32, 32, 3)\n",
      "테스트 데이터셋 :  (10000, 32, 32, 3)\n"
     ]
    }
   ],
   "source": [
    "#불러온 데이터셋의 shape를 확인해보자\n",
    "print('학습 데이터셋 : ', train_x.shape)\n",
    "print('테스트 데이터셋 : ', test_x.shape)"
   ]
  },
  {
   "cell_type": "markdown",
   "metadata": {},
   "source": [
    "> - 학습 데이터는 (32,32)의 컬러 이미지(RGB) 50,000개로 이루어져 있다.          \n",
    "> - 테스트 데이터는 (32,32)의 컬러 이미지, 10,000개로 이루어져 있다."
   ]
  },
  {
   "cell_type": "markdown",
   "metadata": {},
   "source": [
    "#### 학습에 사용할 train_x의 이미지를 [-1, 1]로 정규화"
   ]
  },
  {
   "cell_type": "code",
   "execution_count": 139,
   "metadata": {},
   "outputs": [
    {
     "name": "stdout",
     "output_type": "stream",
     "text": [
      "정규화 전 :  255\n",
      "정규화 후 최대값 /(1.0) 이하여야 함 :  1.0\n",
      "정규화 후 최소값 /(-1.0) 이하여야 함 :  -1.0\n"
     ]
    }
   ],
   "source": [
    "#정규화 전 후 비교\n",
    "#0~255까지의 값에서 중간 값으로 정규화하기 위해, (255/2)를 뺀 후 (255/2)=127.5로 나눠준다.\n",
    "print('정규화 전 : ', train_x.max())\n",
    "\n",
    "train_x = (train_x -127.5)/127.5\n",
    "\n",
    "print('정규화 후 최대값 /(1.0) 이하여야 함 : ', train_x.max())\n",
    "print('정규화 후 최소값 /(-1.0) 이하여야 함 : ', train_x.min())"
   ]
  },
  {
   "cell_type": "markdown",
   "metadata": {},
   "source": [
    "#### 로드한 학습 데이터를 시각화를 통해 확인해본다"
   ]
  },
  {
   "cell_type": "code",
   "execution_count": 140,
   "metadata": {},
   "outputs": [
    {
     "data": {
      "text/plain": [
       "(50000, 32, 32, 3)"
      ]
     },
     "execution_count": 140,
     "metadata": {},
     "output_type": "execute_result"
    }
   ],
   "source": [
    "#시각화를 위해 학습 데이터의 채널 값을 적용해준다.\n",
    "#(32,32)사이즈의 컬러(3채널), 50,000개의 이미지이므로 아래와 같이 적용\n",
    "train_x = train_x.reshape(train_x.shape[0],32,32,3).astype('float32')\n",
    "train_x.shape"
   ]
  },
  {
   "cell_type": "code",
   "execution_count": 141,
   "metadata": {},
   "outputs": [
    {
     "name": "stderr",
     "output_type": "stream",
     "text": [
      "Clipping input data to the valid range for imshow with RGB data ([0..1] for floats or [0..255] for integers).\n"
     ]
    },
    {
     "data": {
      "image/png": "[encoded data removed]",
      "text/plain": [
       "<Figure size 1080x432 with 2 Axes>"
      ]
     },
     "metadata": {
      "needs_background": "light"
     },
     "output_type": "display_data"
    }
   ],
   "source": [
    "#데이터를 시각화하여 확인\n",
    "\n",
    "plt.imshow(train_x[0].reshape(32, 32, 3), cmap='rainbow')\n",
    "plt.colorbar()\n",
    "plt.show()"
   ]
  },
  {
   "cell_type": "code",
   "execution_count": 142,
   "metadata": {},
   "outputs": [
    {
     "name": "stderr",
     "output_type": "stream",
     "text": [
      "Clipping input data to the valid range for imshow with RGB data ([0..1] for floats or [0..255] for integers).\n",
      "Clipping input data to the valid range for imshow with RGB data ([0..1] for floats or [0..255] for integers).\n",
      "Clipping input data to the valid range for imshow with RGB data ([0..1] for floats or [0..255] for integers).\n",
      "Clipping input data to the valid range for imshow with RGB data ([0..1] for floats or [0..255] for integers).\n",
      "Clipping input data to the valid range for imshow with RGB data ([0..1] for floats or [0..255] for integers).\n"
     ]
    },
    {
     "data": {
      "image/png": "[encoded data removed]",
      "text/plain": [
       "<Figure size 720x864 with 5 Axes>"
      ]
     },
     "metadata": {
      "needs_background": "light"
     },
     "output_type": "display_data"
    }
   ],
   "source": [
    "#왜 에러가 뜰까? 10개의 이미지만 출력해서 확인해보자\n",
    "plt.figure(figsize=(10,12))\n",
    "\n",
    "for i in range(5):\n",
    "    plt.subplot(2,5,i+1)\n",
    "    \n",
    "    #랜덤 출력하기 위해 num을 정의\n",
    "    num = np.random.randint(0,50000)\n",
    "    #출력을 위한 리셰이프\n",
    "    plt.imshow(train_x[num].reshape(32,32,3), cmap='rainbow')\n",
    "    plt.title(f'index:{num}')\n",
    "    plt.axis('on')\n",
    "    \n",
    "plt.show()"
   ]
  },
  {
   "cell_type": "markdown",
   "metadata": {},
   "source": [
    "### 미니배치 데이터셋을 구성    \n",
    "\n",
    "- tf.data.Dataset 모듈의 from tensorslices()를 통해 미니배치 데이터셋을 구성한다."
   ]
  },
  {
   "cell_type": "code",
   "execution_count": 36,
   "metadata": {},
   "outputs": [],
   "source": [
    "#전체 데이터셋을 섞기 위해 최댓값인 50000\n",
    "BUFFER_SIZE = 50000\n",
    "\n",
    "#배치사이즈 = 한번에 학습할 데이터의 양\n",
    "#일단 노드에서 나왔던, 256으로 정해준다.\n",
    "BATCH_SIZE = 256"
   ]
  },
  {
   "cell_type": "code",
   "execution_count": 37,
   "metadata": {},
   "outputs": [
    {
     "name": "stdout",
     "output_type": "stream",
     "text": [
      "데이터셋 준비 완료\n"
     ]
    }
   ],
   "source": [
    "#전체 데이터를 셔플하고, 배치 사이즈로 나눠주기\n",
    "train_dataset = tf.data.Dataset.from_tensor_slices(train_x).shuffle(BUFFER_SIZE).batch(BATCH_SIZE)\n",
    "print('데이터셋 준비 완료')"
   ]
  },
  {
   "cell_type": "markdown",
   "metadata": {},
   "source": [
    "## 2. 생성자 모델 구현하기"
   ]
  },
  {
   "cell_type": "markdown",
   "metadata": {},
   "source": [
    "#### 데이터셋에 맞추어 (32,32,3) 이미지를 생성하는 생성자 모델 구현 함수를 작성"
   ]
  },
  {
   "cell_type": "code",
   "execution_count": 51,
   "metadata": {},
   "outputs": [
    {
     "name": "stdout",
     "output_type": "stream",
     "text": [
      "모델 세팅 완료\n"
     ]
    }
   ],
   "source": [
    "def make_generator_model():\n",
    "    \n",
    "    #세팅\n",
    "    model = tf.keras.Sequential()\n",
    "    \n",
    "    #1차 레이어 : 덴스 층\n",
    "    model.add(layers.Dense(8*8*256, use_bias=False, input_shape=(100,)))\n",
    "    model.add(layers.BatchNormalization())\n",
    "    model.add(layers.LeakyReLU())\n",
    "    \n",
    "    #2차 레이어 : reshape layer\n",
    "    model.add(layers.Reshape((8,8,256)))\n",
    "    \n",
    "    #3차 레이어 : Conv2D Transpose layer\n",
    "    model.add(layers.Conv2DTranspose(128, kernel_size=(5, 5), strides=(1, 1), padding='same', use_bias=False))\n",
    "    model.add(layers.BatchNormalization())\n",
    "    model.add(layers.LeakyReLU())\n",
    "    \n",
    "    #4차 레이어 : Conv2D Transpose layer\n",
    "    model.add(layers.Conv2DTranspose(64, kernel_size=(5, 5), strides=(2, 2), padding='same', use_bias=False))\n",
    "    model.add(layers.BatchNormalization())\n",
    "    model.add(layers.LeakyReLU())\n",
    "    \n",
    "    # Fifth: Conv2DTranspose layer\n",
    "    model.add(layers.Conv2DTranspose(3, kernel_size=(5, 5), strides=(2, 2), padding='same', use_bias=False, \\\n",
    "                                     activation='tanh'))\n",
    "\n",
    "    return model\n",
    "\n",
    "print('모델 세팅 완료')"
   ]
  },
  {
   "cell_type": "code",
   "execution_count": 52,
   "metadata": {},
   "outputs": [
    {
     "name": "stdout",
     "output_type": "stream",
     "text": [
      "Model: \"sequential_2\"\n",
      "_________________________________________________________________\n",
      "Layer (type)                 Output Shape              Param #   \n",
      "=================================================================\n",
      "dense_2 (Dense)              (None, 16384)             1638400   \n",
      "_________________________________________________________________\n",
      "batch_normalization_3 (Batch (None, 16384)             65536     \n",
      "_________________________________________________________________\n",
      "leaky_re_lu_5 (LeakyReLU)    (None, 16384)             0         \n",
      "_________________________________________________________________\n",
      "reshape_1 (Reshape)          (None, 8, 8, 256)         0         \n",
      "_________________________________________________________________\n",
      "conv2d_transpose_3 (Conv2DTr (None, 8, 8, 128)         819200    \n",
      "_________________________________________________________________\n",
      "batch_normalization_4 (Batch (None, 8, 8, 128)         512       \n",
      "_________________________________________________________________\n",
      "leaky_re_lu_6 (LeakyReLU)    (None, 8, 8, 128)         0         \n",
      "_________________________________________________________________\n",
      "conv2d_transpose_4 (Conv2DTr (None, 16, 16, 64)        204800    \n",
      "_________________________________________________________________\n",
      "batch_normalization_5 (Batch (None, 16, 16, 64)        256       \n",
      "_________________________________________________________________\n",
      "leaky_re_lu_7 (LeakyReLU)    (None, 16, 16, 64)        0         \n",
      "_________________________________________________________________\n",
      "conv2d_transpose_5 (Conv2DTr (None, 32, 32, 3)         4800      \n",
      "=================================================================\n",
      "Total params: 2,733,504\n",
      "Trainable params: 2,700,352\n",
      "Non-trainable params: 33,152\n",
      "_________________________________________________________________\n"
     ]
    }
   ],
   "source": [
    "generator = make_generator_model()\n",
    "generator.summary()"
   ]
  },
  {
   "cell_type": "markdown",
   "metadata": {},
   "source": [
    "#### 랜덤 노이즈를 통해 노이즈 벡터를 생성"
   ]
  },
  {
   "cell_type": "code",
   "execution_count": 41,
   "metadata": {},
   "outputs": [],
   "source": [
    "#랜덤 숫자가 입력된 1,100 크기의 노이즈 벡터 생성\n",
    "noise = tf.random.normal([1,100])"
   ]
  },
  {
   "cell_type": "code",
   "execution_count": 53,
   "metadata": {},
   "outputs": [
    {
     "data": {
      "text/plain": [
       "TensorShape([1, 32, 32, 3])"
      ]
     },
     "execution_count": 53,
     "metadata": {},
     "output_type": "execute_result"
    }
   ],
   "source": [
    "#noise 샘플 출력\n",
    "#BatchNormalization은 훈련/추론 시기의 행동이 다르기 때문에 모델을 생성하되 \n",
    "#training=False\n",
    "\n",
    "generated_image = generator(noise, training=False)\n",
    "generated_image.shape"
   ]
  },
  {
   "cell_type": "code",
   "execution_count": 54,
   "metadata": {},
   "outputs": [
    {
     "data": {
      "image/png": "[encoded data removed]",
      "text/plain": [
       "<Figure size 432x288 with 2 Axes>"
      ]
     },
     "metadata": {
      "needs_background": "light"
     },
     "output_type": "display_data"
    }
   ],
   "source": [
    "#[32, 32, 3]크기의 1개 노이즈 벡터가 만들어졌으므로, 이를 시각화함\n",
    "plt.imshow(generated_image[0, :, :, 0], cmap='rainbow')\n",
    "plt.colorbar()\n",
    "plt.show()"
   ]
  },
  {
   "cell_type": "markdown",
   "metadata": {},
   "source": [
    "#### 생성된 이미지가 생성자 출력 규격에 맞는지 확인"
   ]
  },
  {
   "cell_type": "markdown",
   "metadata": {},
   "source": [
    "- 생성자 출력 규격은 다음과 같다.(생성 모델의 마지막 층 모양)          \n",
    "\n",
    "![생성자출력규격](./PostingPic/생성자출력규격2.png)             \n",
    "\n",
    "- 생성된 이미지의 shape는 다음과 같다.        "
   ]
  },
  {
   "cell_type": "code",
   "execution_count": 55,
   "metadata": {},
   "outputs": [
    {
     "name": "stdout",
     "output_type": "stream",
     "text": [
      "랜덤으로 생성된 노이즈 벡터 이미지의 shape :  (1, 32, 32, 3)\n"
     ]
    }
   ],
   "source": [
    "print('랜덤으로 생성된 노이즈 벡터 이미지의 shape : ' , generated_image.shape)"
   ]
  },
  {
   "cell_type": "markdown",
   "metadata": {},
   "source": [
    "> - 이와 같이, 생성자 모델의 마지막 층 출력 규격과 랜덤 노이즈 벡터의 크기가 (32,32,3)로 같다"
   ]
  },
  {
   "cell_type": "markdown",
   "metadata": {},
   "source": [
    "## 3. 판별자 모델 구현하기                \n",
    "\n",
    "#### (32,32,3)의 이미지를 입력으로 받아 1dim의 판별 결과를 출력하는 판별자 모델 구현 함수를 작성한다."
   ]
  },
  {
   "cell_type": "code",
   "execution_count": 56,
   "metadata": {},
   "outputs": [
    {
     "name": "stdout",
     "output_type": "stream",
     "text": [
      "판별자 모델의 생성 함수 세팅 완료\n"
     ]
    }
   ],
   "source": [
    "def make_discriminator_model():\n",
    "\n",
    "    # Start\n",
    "    model = tf.keras.Sequential()\n",
    "\n",
    "    #First: Conv2D Layer\n",
    "    #여기서의 인풋 사이즈는 (32,32,3)의 이미지이다.\n",
    "    model.add(layers.Conv2D(64, (5, 5), strides=(2, 2), padding='same', input_shape=[32, 32, 3]))\n",
    "    model.add(layers.LeakyReLU())\n",
    "    model.add(layers.Dropout(0.3))\n",
    "\n",
    "    # Second: Conv2D Layer\n",
    "    model.add(layers.Conv2D(128, (5, 5), strides=(2, 2), padding='same'))\n",
    "    model.add(layers.LeakyReLU())\n",
    "    model.add(layers.Dropout(0.3))\n",
    "\n",
    "    # Third: Flatten Layer\n",
    "    model.add(layers.Flatten())\n",
    "\n",
    "    # Fourth: Dense Layer\n",
    "    model.add(layers.Dense(1))\n",
    "\n",
    "    return model\n",
    "\n",
    "print('판별자 모델의 생성 함수 세팅 완료')"
   ]
  },
  {
   "cell_type": "code",
   "execution_count": 57,
   "metadata": {},
   "outputs": [
    {
     "name": "stdout",
     "output_type": "stream",
     "text": [
      "Model: \"sequential_3\"\n",
      "_________________________________________________________________\n",
      "Layer (type)                 Output Shape              Param #   \n",
      "=================================================================\n",
      "conv2d_2 (Conv2D)            (None, 16, 16, 64)        4864      \n",
      "_________________________________________________________________\n",
      "leaky_re_lu_8 (LeakyReLU)    (None, 16, 16, 64)        0         \n",
      "_________________________________________________________________\n",
      "dropout_2 (Dropout)          (None, 16, 16, 64)        0         \n",
      "_________________________________________________________________\n",
      "conv2d_3 (Conv2D)            (None, 8, 8, 128)         204928    \n",
      "_________________________________________________________________\n",
      "leaky_re_lu_9 (LeakyReLU)    (None, 8, 8, 128)         0         \n",
      "_________________________________________________________________\n",
      "dropout_3 (Dropout)          (None, 8, 8, 128)         0         \n",
      "_________________________________________________________________\n",
      "flatten_1 (Flatten)          (None, 8192)              0         \n",
      "_________________________________________________________________\n",
      "dense_3 (Dense)              (None, 1)                 8193      \n",
      "=================================================================\n",
      "Total params: 217,985\n",
      "Trainable params: 217,985\n",
      "Non-trainable params: 0\n",
      "_________________________________________________________________\n"
     ]
    }
   ],
   "source": [
    "#판별자 모델 서머리\n",
    "discriminator = make_discriminator_model()\n",
    "\n",
    "discriminator.summary()"
   ]
  },
  {
   "cell_type": "markdown",
   "metadata": {},
   "source": [
    "- 판별자 모델은 Conv2D 층으로 이미지의 크기를 점점 줄여나간다.\n",
    "- 마지막에는 Flatten 모델을 통해 3차원 이미지를 1차원으로 편 후, reshape하여 형상을 맞춘다.\n",
    "- 1차원 벡터로 변환한 뒤 Dense 층을 거치면, 하나의 값(진짜/가짜의 판단 값)을 출력한다.       "
   ]
  },
  {
   "cell_type": "markdown",
   "metadata": {},
   "source": [
    "#### 목차 2에서 생성한 랜덤 이미지를 판별자 모델이 판별한 결과값을 확인"
   ]
  },
  {
   "cell_type": "code",
   "execution_count": 58,
   "metadata": {},
   "outputs": [
    {
     "data": {
      "text/plain": [
       "<tf.Tensor: shape=(1, 1), dtype=float32, numpy=array([[-0.00200335]], dtype=float32)>"
      ]
     },
     "execution_count": 58,
     "metadata": {},
     "output_type": "execute_result"
    }
   ],
   "source": [
    "decision = discriminator(generated_image, training=False)\n",
    "decision"
   ]
  },
  {
   "cell_type": "markdown",
   "metadata": {},
   "source": [
    "> - 결과값은 다음과 같이 확인 가능하다. "
   ]
  },
  {
   "cell_type": "markdown",
   "metadata": {},
   "source": [
    "## 4. 손실함수와 최적화 함수 구현하기         "
   ]
  },
  {
   "cell_type": "markdown",
   "metadata": {},
   "source": [
    "#### 생성자와 판별자의 손실함수 구하기      \n",
    "\n",
    "- GAN은 손실함수로 교차 엔트로피 값을 사용         \n",
    "- 판별자의 경우, 1개의 이미지가 가짜인지 진짜인지 나타내는 2개 클래스 간의 문제를 풀어야 하므로, __이진 교차 엔트로피를 사용__ "
   ]
  },
  {
   "cell_type": "markdown",
   "metadata": {},
   "source": [
    "###### 생성자의 손실함수 구하기"
   ]
  },
  {
   "cell_type": "code",
   "execution_count": 92,
   "metadata": {},
   "outputs": [],
   "source": [
    "cross_entropy = tf.keras.losses.BinaryCrossentropy(from_logits=True)"
   ]
  },
  {
   "cell_type": "code",
   "execution_count": 93,
   "metadata": {},
   "outputs": [
    {
     "name": "stdout",
     "output_type": "stream",
     "text": [
      "생성자 손실함수 : 모두 1로 채워진 행렬과의 교차 엔트로피 오차 측정\n"
     ]
    }
   ],
   "source": [
    "#생성자의 경우, 생성한 fake 이미지에 대한 아웃풋이 1이 되기를 바라므로, \n",
    "#전부 1로 채워진 행렬인 tf.ones_like와의 교차 엔트로피 값을 가지면 된다.    \n",
    "def generator_loss(fake_output):\n",
    "    return cross_entropy(tf.ones_like(fake_output), fake_output)\n",
    "\n",
    "print('생성자 손실함수 : 모두 1로 채워진 행렬과의 교차 엔트로피 오차 측정')"
   ]
  },
  {
   "cell_type": "markdown",
   "metadata": {},
   "source": [
    "##### 판별자의 손실함수 구하기"
   ]
  },
  {
   "cell_type": "code",
   "execution_count": 94,
   "metadata": {},
   "outputs": [],
   "source": [
    "def discriminator_loss(real_output, fake_output):\n",
    "    real_loss = cross_entropy(tf.ones_like(real_output), real_output)\n",
    "    fake_loss = cross_entropy(tf.zeros_like(fake_output), fake_output)\n",
    "    total_loss = real_loss + fake_loss\n",
    "    return total_loss"
   ]
  },
  {
   "cell_type": "markdown",
   "metadata": {},
   "source": [
    "- real_output값은 1에 가깝기를, fake_output 값은 0에 가깝기를 바라므로, 두 loss값을 모두 계산    \n",
    "- real_output값은 1로 채워진 벡터와, fake_output값은 0으로 채워진 벡터와 비교       \n",
    "- 최종 로스값은 이 둘을 더한 값"
   ]
  },
  {
   "cell_type": "markdown",
   "metadata": {},
   "source": [
    "##### 판별자의 출력값으로, 실제/생성 이미지 판별 정확도를 계산하는 함수 구현"
   ]
  },
  {
   "cell_type": "code",
   "execution_count": 95,
   "metadata": {},
   "outputs": [],
   "source": [
    "def discriminator_accuracy(real_output, fake_output):\n",
    "    real_accuracy = tf.reduce_mean(tf.cast(tf.math.greater_equal(real_output, tf.constant([0.5])), tf.float32))\n",
    "    fake_accuracy = tf.reduce_mean(tf.cast(tf.math.less(fake_output, tf.constant([0.5])), tf.float32))\n",
    "    return real_accuracy, fake_accuracy"
   ]
  },
  {
   "cell_type": "markdown",
   "metadata": {},
   "source": [
    "- 판별자가 real output, fake output을 얼마나 정확히 판별하는지 accuracy를 계산해보는 것이 중요\n",
    "- 판별자가 각각 1, 0으로 잘 판별해내면 좋은걸까? 아니다. 극단 값에 가까울 수록 생성 모델이 잘 못 만들고 있다는 증거이다.\n",
    "- 결론적으로, 각각의 accuracy는 0.5에 가까워지는 것이 이상적이다."
   ]
  },
  {
   "cell_type": "markdown",
   "metadata": {},
   "source": [
    "##### 각 모델(생성자/판별자)의 최적화 함수 구현"
   ]
  },
  {
   "cell_type": "code",
   "execution_count": 96,
   "metadata": {},
   "outputs": [],
   "source": [
    "#생성자 최적화 함수\n",
    "generator_optimizer = tf.keras.optimizers.Adam(1e-4)\n",
    "\n",
    "#판별자 최적화 함수\n",
    "discriminator_optimizer = tf.keras.optimizers.Adam(1e-4)"
   ]
  },
  {
   "cell_type": "markdown",
   "metadata": {},
   "source": [
    "- 제대로 만들어지는지를 확인하기 위해 생성자는 한 번에 16개의 샘플을 생성하기로 한다.\n",
    "- 랜덤이어도 매번 같은 시드를 확인해야 하므로, 고정된 랜덤 seed를 만들어야 한다.\n",
    "- 100차원의 노이즈를 16개, (16, 100)의 벡터를 만들어두자."
   ]
  },
  {
   "cell_type": "code",
   "execution_count": 97,
   "metadata": {},
   "outputs": [
    {
     "data": {
      "text/plain": [
       "TensorShape([16, 100])"
      ]
     },
     "execution_count": 97,
     "metadata": {},
     "output_type": "execute_result"
    }
   ],
   "source": [
    "noise_dim = 100\n",
    "num_examples_to_generate = 16\n",
    "\n",
    "seed = tf.random.normal([num_examples_to_generate, noise_dim])\n",
    "seed.shape"
   ]
  },
  {
   "cell_type": "markdown",
   "metadata": {},
   "source": [
    "## 5. 훈련 과정 상세 기능 구현하기"
   ]
  },
  {
   "cell_type": "markdown",
   "metadata": {},
   "source": [
    "##### 1개 미니배치의 훈련 과정을 처리하는 train_step() 함수를 구현"
   ]
  },
  {
   "cell_type": "code",
   "execution_count": 98,
   "metadata": {},
   "outputs": [
    {
     "name": "stdout",
     "output_type": "stream",
     "text": [
      "트레인스텝 함수 세팅\n"
     ]
    }
   ],
   "source": [
    "def train_step(images):\n",
    "    \n",
    "    #1번 학습할 배치 사이즈 만큼을 입력(256의 배치 사이즈, 100개의 차원)\n",
    "    noise = tf.random.normal([BATCH_SIZE, noise_dim])  \n",
    "\n",
    "    #tf.GradientTape()\n",
    "    with tf.GradientTape() as gen_tape, tf.GradientTape() as disc_tape:  \n",
    "        \n",
    "        #generated_images 생성\n",
    "        #학습을 진행하므로 training=True\n",
    "        generated_images = generator(noise, training=True)  \n",
    "\n",
    "        #discriminator 판별\n",
    "        real_output = discriminator(images, training=True)\n",
    "        fake_output = discriminator(generated_images, training=True)\n",
    "\n",
    "        #loss 계산\n",
    "        gen_loss = generator_loss(fake_output)\n",
    "        disc_loss = discriminator_loss(real_output, fake_output)\n",
    "\n",
    "        #accuracy 계산\n",
    "        real_accuracy, fake_accuracy = discriminator_accuracy(real_output, fake_output) \n",
    "    \n",
    "    #gradient 계산\n",
    "    gradients_of_generator = gen_tape.gradient(gen_loss, generator.trainable_variables)\n",
    "    gradients_of_discriminator = disc_tape.gradient(disc_loss, discriminator.trainable_variables)\n",
    "\n",
    "    #모델 학습\n",
    "    generator_optimizer.apply_gradients(zip(gradients_of_generator, generator.trainable_variables))\n",
    "    discriminator_optimizer.apply_gradients(zip(gradients_of_discriminator, discriminator.trainable_variables))\n",
    "\n",
    "    #리턴값\n",
    "    return gen_loss, disc_loss, real_accuracy, fake_accuracy\n",
    "\n",
    "print('트레인스텝 함수 세팅')"
   ]
  },
  {
   "cell_type": "markdown",
   "metadata": {},
   "source": [
    "##### 훈련 과정에서 생성한 이미지를 시각화하는 함수"
   ]
  },
  {
   "cell_type": "code",
   "execution_count": 99,
   "metadata": {},
   "outputs": [
    {
     "name": "stdout",
     "output_type": "stream",
     "text": [
      "16개의 고정 시드를 입력으로 써서 훈련 과정동안 생성한 이미지를 시각화하는 함수\n"
     ]
    }
   ],
   "source": [
    "def generate_and_save_images(model, epoch, it, sample_seeds):\n",
    "\n",
    "    predictions = model(sample_seeds, training=False)\n",
    "\n",
    "    fig = plt.figure(figsize=(4, 4))\n",
    "    for i in range(predictions.shape[0]):\n",
    "        plt.subplot(4, 4, i+1)\n",
    "        plt.imshow(predictions[i, :, :, 0], cmap='gray')\n",
    "        plt.axis('off')\n",
    "\n",
    "    plt.savefig('{}/SUBMIT_MISSION_GIT/ex12_Gan/submit_generatedSample/sample_epoch_{:04d}_iter_{:03d}.png'\n",
    "                    .format(os.getenv('HOME'), epoch, it))\n",
    "\n",
    "    plt.show()\n",
    "    \n",
    "print('16개의 고정 시드를 입력으로 써서 훈련 과정동안 생성한 이미지를 시각화하는 함수')"
   ]
  },
  {
   "cell_type": "markdown",
   "metadata": {},
   "source": [
    "##### 훈련 epoch마다 1.생성자 loss 2. 판별자 loss 3.생성자/판별자 accuracy 를 시각화하는 함수 구현"
   ]
  },
  {
   "cell_type": "code",
   "execution_count": 100,
   "metadata": {},
   "outputs": [
    {
     "name": "stdout",
     "output_type": "stream",
     "text": [
      "loss, accuracy의 시각화 함수 세팅\n"
     ]
    }
   ],
   "source": [
    "from matplotlib.pylab import rcParams\n",
    "rcParams['figure.figsize'] = 15, 6  \n",
    "\n",
    "def draw_train_history(history, epoch):\n",
    "    \n",
    "    #loss에 대한 기록\n",
    "    plt.subplot(211)  \n",
    "    plt.plot(history['gen_loss'])  \n",
    "    plt.plot(history['disc_loss'])  \n",
    "    plt.title('model loss')  \n",
    "    plt.ylabel('loss')  \n",
    "    plt.xlabel('batch iters')  \n",
    "    plt.legend(['gen_loss', 'disc_loss'], loc='upper left')  \n",
    "\n",
    "    #accuracy에 대한 기록\n",
    "    plt.subplot(212)  \n",
    "    plt.plot(history['fake_accuracy'])  \n",
    "    plt.plot(history['real_accuracy'])  \n",
    "    plt.title('discriminator accuracy')  \n",
    "    plt.ylabel('accuracy')  \n",
    "    plt.xlabel('batch iters')  \n",
    "    plt.legend(['fake_accuracy', 'real_accuracy'], loc='upper left')  \n",
    "    \n",
    "    # training_history에 epoch별로 그래프를 저장\n",
    "    plt.savefig('{}/SUBMIT_MISSION_GIT/ex12_Gan/submit_trainingHistory/train_history_{:04d}.png'\n",
    "                    .format(os.getenv('HOME'), epoch))\n",
    "    plt.show()\n",
    "\n",
    "print('loss, accuracy의 시각화 함수 세팅')"
   ]
  },
  {
   "cell_type": "markdown",
   "metadata": {},
   "source": [
    "##### checkpoint를 만드는 함수 구현"
   ]
  },
  {
   "cell_type": "code",
   "execution_count": 101,
   "metadata": {},
   "outputs": [
    {
     "name": "stdout",
     "output_type": "stream",
     "text": [
      "체크포인트 설정완료\n"
     ]
    }
   ],
   "source": [
    "checkpoint_dir = os.getenv('HOME')+'/SUBMIT_MISSION_GIT/ex12_Gan/submit_trainingCheckpoint'\n",
    "\n",
    "checkpoint_prefix = os.path.join(checkpoint_dir, \"ckpt\")\n",
    "checkpoint = tf.train.Checkpoint(generator_optimizer=generator_optimizer,\n",
    "                                 discriminator_optimizer=discriminator_optimizer,\n",
    "                                 generator=generator,\n",
    "                                 discriminator=discriminator)\n",
    "\n",
    "print('체크포인트 설정완료')"
   ]
  },
  {
   "cell_type": "markdown",
   "metadata": {},
   "source": [
    "### 6. 학습 과정 진행하기        \n",
    "\n",
    "- 최소 50epoch 의 학습 진행하기"
   ]
  },
  {
   "cell_type": "code",
   "execution_count": 102,
   "metadata": {},
   "outputs": [],
   "source": [
    "def train(dataset, epochs, save_every):\n",
    "    start = time.time()\n",
    "    history = {'gen_loss':[], 'disc_loss':[], 'real_accuracy':[], 'fake_accuracy':[]}\n",
    "\n",
    "    for epoch in range(epochs):\n",
    "        epoch_start = time.time()\n",
    "        for it, image_batch in enumerate(dataset):\n",
    "            gen_loss, disc_loss, real_accuracy, fake_accuracy = train_step(image_batch)\n",
    "            history['gen_loss'].append(gen_loss)\n",
    "            history['disc_loss'].append(disc_loss)\n",
    "            history['real_accuracy'].append(real_accuracy)\n",
    "            history['fake_accuracy'].append(fake_accuracy)\n",
    "\n",
    "            if it % 50 == 0:\n",
    "                display.clear_output(wait=True)\n",
    "                generate_and_save_images(generator, epoch+1, it+1, seed)\n",
    "                print('Epoch {} | iter {}'.format(epoch+1, it+1))\n",
    "                print('Time for epoch {} : {} sec'.format(epoch+1, int(time.time()-epoch_start)))\n",
    "\n",
    "        if (epoch + 1) % save_every == 0:\n",
    "            checkpoint.save(file_prefix=checkpoint_prefix)\n",
    "\n",
    "        display.clear_output(wait=True)\n",
    "        generate_and_save_images(generator, epochs, it, seed)\n",
    "        print('Time for training : {} sec'.format(int(time.time()-start)))\n",
    "\n",
    "        draw_train_history(history, epoch)"
   ]
  },
  {
   "cell_type": "code",
   "execution_count": 103,
   "metadata": {},
   "outputs": [],
   "source": [
    "#체크포인트 간격\n",
    "save_every = 5\n",
    "\n",
    "#50에포크 돌림\n",
    "EPOCHS = 50"
   ]
  },
  {
   "cell_type": "code",
   "execution_count": 104,
   "metadata": {},
   "outputs": [
    {
     "data": {
      "text/plain": [
       "[PhysicalDevice(name='/physical_device:GPU:0', device_type='GPU')]"
      ]
     },
     "execution_count": 104,
     "metadata": {},
     "output_type": "execute_result"
    }
   ],
   "source": [
    "#사용가능한 GPU 디바이스 확인\n",
    "tf.config.list_physical_devices(\"GPU\")"
   ]
  },
  {
   "cell_type": "code",
   "execution_count": 105,
   "metadata": {},
   "outputs": [
    {
     "data": {
      "image/png": "[encoded data removed]",
      "text/plain": [
       "<Figure size 288x288 with 16 Axes>"
      ]
     },
     "metadata": {
      "needs_background": "light"
     },
     "output_type": "display_data"
    },
    {
     "name": "stdout",
     "output_type": "stream",
     "text": [
      "Time for training : 936 sec\n"
     ]
    },
    {
     "data": {
      "image/png": "[encoded data removed]",
      "text/plain": [
       "<Figure size 1080x432 with 2 Axes>"
      ]
     },
     "metadata": {
      "needs_background": "light"
     },
     "output_type": "display_data"
    },
    {
     "name": "stdout",
     "output_type": "stream",
     "text": [
      "CPU times: user 9min 40s, sys: 17.2 s, total: 9min 57s\n",
      "Wall time: 15min 36s\n"
     ]
    }
   ],
   "source": [
    "%%time\n",
    "train(train_dataset, EPOCHS, save_every)"
   ]
  },
  {
   "cell_type": "markdown",
   "metadata": {},
   "source": [
    "#### gif로 학습과정 시각화하기"
   ]
  },
  {
   "cell_type": "code",
   "execution_count": 108,
   "metadata": {},
   "outputs": [
    {
     "name": "stdout",
     "output_type": "stream",
     "text": [
      "-rw-r--r-- 1 ssac23 ssac23 1350711  2월 25 16:11 /home/ssac23/SUBMIT_MISSION_GIT/ex12_Gan/submit_fashionMnist_dcgan.gif\r\n"
     ]
    }
   ],
   "source": [
    "anim_file = os.getenv('HOME')+'/SUBMIT_MISSION_GIT/ex12_Gan/submit_fashionMnist_dcgan.gif'\n",
    "\n",
    "with imageio.get_writer(anim_file, mode='I') as writer:\n",
    "    filenames = glob.glob('{}/SUBMIT_MISSION_GIT/ex12_Gan/submit_generatedSample/sample*.png'.format(os.getenv('HOME')))\n",
    "    filenames = sorted(filenames)\n",
    "    last = -1\n",
    "    for i, filename in enumerate(filenames):\n",
    "        frame = 2*(i**0.5)\n",
    "        if round(frame) > round(last):\n",
    "            last = frame\n",
    "        else:\n",
    "            continue\n",
    "        image = imageio.imread(filename)\n",
    "        writer.append_data(image)\n",
    "    image = imageio.imread(filename)\n",
    "    writer.append_data(image)\n",
    "\n",
    "!ls -l ~/SUBMIT_MISSION_GIT/ex12_Gan/submit_fashionMnist_dcgan.gif"
   ]
  },
  {
   "cell_type": "markdown",
   "metadata": {},
   "source": [
    "![결과이미지](./PostingPic/submit_fashionMnist_dcgan.gif \"segment\")"
   ]
  },
  {
   "cell_type": "markdown",
   "metadata": {},
   "source": [
    "> - 학습 결과를 gif로 확인해보았다."
   ]
  },
  {
   "cell_type": "markdown",
   "metadata": {},
   "source": [
    "## 7. GAN 훈련 과정 개선하기"
   ]
  },
  {
   "cell_type": "markdown",
   "metadata": {},
   "source": [
    "#### 모델을 개선하기 위해서, 결과를 살펴본다."
   ]
  },
  {
   "cell_type": "markdown",
   "metadata": {},
   "source": [
    "> __살펴볼 결과는 다음과 같다.__ \n",
    "\n",
    "> - 1. GAN을 통해 생성된 이미지      \n",
    "> - 2. loss 및 accuracy 그래프와 수치"
   ]
  },
  {
   "cell_type": "markdown",
   "metadata": {},
   "source": [
    "##### GAN 학습을 통해 생성된 이미지"
   ]
  },
  {
   "cell_type": "markdown",
   "metadata": {},
   "source": [
    "__먼저, 가장 먼저 노이즈 벡터로 시작된 이미지를 살펴보자.__ "
   ]
  },
  {
   "cell_type": "markdown",
   "metadata": {},
   "source": [
    "![시작은미약](./PostingPic/시작은미약.png)"
   ]
  },
  {
   "cell_type": "markdown",
   "metadata": {},
   "source": [
    "__이제 가장 마지막에 기록된 이미지를 살펴보자.__  "
   ]
  },
  {
   "cell_type": "markdown",
   "metadata": {},
   "source": [
    "![끝은창대](./PostingPic/끝은창대.png)"
   ]
  },
  {
   "cell_type": "markdown",
   "metadata": {},
   "source": [
    "> - 시작 이미지의 경우 흑백 텔레비전의 이미지처럼 균일하게 지지직거리는 이미지에 가깝다면,      \n",
    "> - 가장 마지막 이미지의 경우 어느 정도 어슴푸레한 덩어리가 잡혀 있다."
   ]
  },
  {
   "cell_type": "markdown",
   "metadata": {},
   "source": [
    "###### 생성자와 판별자의 loss 및  판별자의 accuracy 그래프와 수치"
   ]
  },
  {
   "cell_type": "markdown",
   "metadata": {},
   "source": [
    "![로스와 accracy](./PostingPic/lossAndAccuracy.gif)"
   ]
  },
  {
   "cell_type": "markdown",
   "metadata": {},
   "source": [
    "> - 모델의 생성자, 판별자의 loss는 시간이 지날수록 서로 수렴하는 형태를 보였다.       \n",
    "> - 판별자의 정확도는 상대적으로 0.8에서 1.0 구간 사이에 머물렀다.(학습이 아직 효과적이지 않았다.)     \n",
    "> - real_accuracy(실제 모델을 실제라고 판단하는 비율)는 항상 fake_accuracy(생성 이미지가 생성이미지인지 알아보는 비율)이 항상 더 좋은 결과였다.(0.5에 더 가까웠다)"
   ]
  },
  {
   "cell_type": "markdown",
   "metadata": {},
   "source": [
    "##### 개선에 대한 제안"
   ]
  },
  {
   "cell_type": "markdown",
   "metadata": {},
   "source": [
    "- 이러한 분석으로 미루어보았을 때, 학습이 충분히 시행되지 않았음을 알 수 있었다.          \n",
    "- 이를 개선하기 위한 방법이 무엇이 있는지 알아보았다.         \n",
    "\n",
    "__[개선 방안]__ \n",
    "- 1. 먼저, 노드에서 '모델을 새로 학습시키지 않고 불러와 사용할 수 있도록' 하는 방법이 제시되었다.      \n",
    "- 2. (캐글에서 한 번 시도했던 방법인데) 러닝 레이트를 조정해볼 수 있을 것 같다.\n",
    "- 3. 왜 결과가 흑백으로 나오는지 잘 모르겠다. 채널과 generated image 자체는 컬러로 세팅되어 있었는데...\n",
    "\n",
    "이러한 3가지 개선 방안을 중점적으로 신경써보도록 한다."
   ]
  },
  {
   "cell_type": "markdown",
   "metadata": {},
   "source": [
    "## 8. 개선 "
   ]
  },
  {
   "cell_type": "markdown",
   "metadata": {},
   "source": [
    "##### 1. 저장된 모델, 체크포인트를 활용하여본다.(개선 1방안)"
   ]
  },
  {
   "cell_type": "code",
   "execution_count": 116,
   "metadata": {},
   "outputs": [
    {
     "data": {
      "image/png": "[encoded data removed]",
      "text/plain": [
       "<Figure size 1080x432 with 1 Axes>"
      ]
     },
     "metadata": {
      "needs_background": "light"
     },
     "output_type": "display_data"
    }
   ],
   "source": [
    "checkpoint_dir = os.getenv('HOME')+'/SUBMIT_MISSION_GIT/ex12_Gan/submit_trainingCheckpoint'\n",
    "\n",
    "latest = tf.train.latest_checkpoint(checkpoint_dir)\n",
    "checkpoint.restore(latest)\n",
    "\n",
    "generator = checkpoint.generator\n",
    "discriminator = checkpoint.discriminator\n",
    "\n",
    "# 로드한 모델이 정상적으로 이미지를 생성하는지 확인해 봅니다. \n",
    "noise = tf.random.normal([1, 100])\n",
    "generated_image = generator(noise, training=False)\n",
    "\n",
    "np_generated = generated_image.numpy()\n",
    "np_generated = (np_generated * 127.5) + 127.5   # reverse of normalization\n",
    "np_generated = np_generated.astype(int)\n",
    "plt.imshow(np_generated[0])\n",
    "plt.show()  # 정상적으로 모델이 로드되었다면 랜덤 이미지가 아니라 CIFAR-10 이미지가 그려질 것입니다."
   ]
  },
  {
   "cell_type": "markdown",
   "metadata": {},
   "source": [
    "> - 생각해보니, 모델의 세부 사항을 조정하려면 모델을 재정의해야 하므로 __1의 개선안은 쓸 수 없을 것 같다.__ \n",
    "> - 우선 하이퍼 파라미터 튜닝 먼저 진행하고, 시간이 남으면 1을 시도해보는 것이 좋겠다."
   ]
  },
  {
   "cell_type": "markdown",
   "metadata": {},
   "source": [
    "##### 2. 하이퍼 파라미터를 조정한 새로운 모델 학습"
   ]
  },
  {
   "cell_type": "markdown",
   "metadata": {},
   "source": [
    "###### 모델의 개선안을 스스로 찾아내기는 힘들 것 같아서, 다른 사람들의 작업을 참고하였다.    \n",
    "\n",
    "1. [여기를 참고하였다. 1](https://www.linkedin.com/pulse/dcgan-hyperparameter-tuning-part-2-thiago-abreu-da-silva)"
   ]
  },
  {
   "cell_type": "markdown",
   "metadata": {},
   "source": [
    "> 이에 따르면, 시험해 볼 만한 파라미터는     \n",
    "> - 더 많은 에포크를 다룰 것.    \n",
    "> - 커널 사이즈 및 strides에 변화를 줄 것        \n",
    "> - drop rate를 달리 할 것      \n",
    "> - learning rate를 달리 할 것.   \n",
    "> - 배치 사이즈를 변화시킬 것"
   ]
  },
  {
   "cell_type": "markdown",
   "metadata": {},
   "source": [
    "> 이 중 에포크, 배치사이즈를 달리하고 문제점 3을 개선하기 위해 input_shape 파라미터를 변경한다."
   ]
  },
  {
   "cell_type": "markdown",
   "metadata": {},
   "source": [
    "##### 배치 사이즈 변경"
   ]
  },
  {
   "cell_type": "code",
   "execution_count": 143,
   "metadata": {},
   "outputs": [],
   "source": [
    "#전체 데이터셋을 섞기 위해 최댓값인 50000\n",
    "BUFFER_SIZE = 50000\n",
    "\n",
    "#배치사이즈 = 한번에 학습할 데이터의 양\n",
    "#일단 노드에서 나왔던, 256으로 정해준다.\n",
    "BATCH_SIZE = 128"
   ]
  },
  {
   "cell_type": "code",
   "execution_count": 144,
   "metadata": {},
   "outputs": [
    {
     "name": "stdout",
     "output_type": "stream",
     "text": [
      "데이터셋 준비 완료\n"
     ]
    }
   ],
   "source": [
    "#전체 데이터를 셔플하고, 배치 사이즈로 나눠주기\n",
    "train_dataset = tf.data.Dataset.from_tensor_slices(train_x).shuffle(BUFFER_SIZE).batch(BATCH_SIZE)\n",
    "print('데이터셋 준비 완료')"
   ]
  },
  {
   "cell_type": "markdown",
   "metadata": {},
   "source": [
    "###### 위의 사항을 바탕으로, 문제점 3을 개선할 새로운 생성자와 판별자 모델을 적용하였다.            \n",
    "\n",
    "- 위의 개선 지점 중, 커널 사이즈 및 strides는 이미 가장 모범적인 조건이라고 제시된 것과 동일하였다.         \n",
    "- 따라서 달라진 점은 컬러 이미지를 얻기 위한 input_shpae 조정 뿐이다. input_shape=(100,) -> (100,3)"
   ]
  },
  {
   "cell_type": "code",
   "execution_count": 145,
   "metadata": {},
   "outputs": [
    {
     "name": "stdout",
     "output_type": "stream",
     "text": [
      "모델 세팅 완료\n"
     ]
    }
   ],
   "source": [
    "def generator_model():\n",
    "    \n",
    "    #세팅\n",
    "    model = tf.keras.Sequential()\n",
    "    \n",
    "    #1차 레이어 : 덴스 층\n",
    "    model.add(layers.Dense(8*8*256, use_bias=False, input_shape=(100,3)))\n",
    "    model.add(layers.BatchNormalization())\n",
    "    model.add(layers.LeakyReLU())\n",
    "    \n",
    "    #2차 레이어 : reshape layer\n",
    "    model.add(layers.Reshape((8,8,256)))\n",
    "    \n",
    "    #3차 레이어 : Conv2D Transpose layer\n",
    "    model.add(layers.Conv2DTranspose(128, kernel_size=(5, 5), strides=(1, 1), padding='same', use_bias=False))\n",
    "    model.add(layers.BatchNormalization())\n",
    "    model.add(layers.LeakyReLU())\n",
    "    \n",
    "    #4차 레이어 : Conv2D Transpose layer\n",
    "    model.add(layers.Conv2DTranspose(64, kernel_size=(5, 5), strides=(2, 2), padding='same', use_bias=False))\n",
    "    model.add(layers.BatchNormalization())\n",
    "    model.add(layers.LeakyReLU())\n",
    "    \n",
    "    # Fifth: Conv2DTranspose layer\n",
    "    model.add(layers.Conv2DTranspose(3, kernel_size=(5, 5), strides=(2, 2), padding='same', use_bias=False, \\\n",
    "                                     activation='tanh'))\n",
    "\n",
    "    return model\n",
    "\n",
    "print('모델 세팅 완료')"
   ]
  },
  {
   "cell_type": "code",
   "execution_count": 146,
   "metadata": {},
   "outputs": [
    {
     "name": "stdout",
     "output_type": "stream",
     "text": [
      "Model: \"sequential_9\"\n",
      "_________________________________________________________________\n",
      "Layer (type)                 Output Shape              Param #   \n",
      "=================================================================\n",
      "dense_9 (Dense)              (None, 100, 16384)        49152     \n",
      "_________________________________________________________________\n",
      "batch_normalization_12 (Batc (None, 100, 16384)        65536     \n",
      "_________________________________________________________________\n",
      "leaky_re_lu_22 (LeakyReLU)   (None, 100, 16384)        0         \n",
      "_________________________________________________________________\n",
      "reshape_4 (Reshape)          (None, 8, 8, 256)         0         \n",
      "_________________________________________________________________\n",
      "conv2d_transpose_12 (Conv2DT (None, 8, 8, 128)         819200    \n",
      "_________________________________________________________________\n",
      "batch_normalization_13 (Batc (None, 8, 8, 128)         512       \n",
      "_________________________________________________________________\n",
      "leaky_re_lu_23 (LeakyReLU)   (None, 8, 8, 128)         0         \n",
      "_________________________________________________________________\n",
      "conv2d_transpose_13 (Conv2DT (None, 16, 16, 64)        204800    \n",
      "_________________________________________________________________\n",
      "batch_normalization_14 (Batc (None, 16, 16, 64)        256       \n",
      "_________________________________________________________________\n",
      "leaky_re_lu_24 (LeakyReLU)   (None, 16, 16, 64)        0         \n",
      "_________________________________________________________________\n",
      "conv2d_transpose_14 (Conv2DT (None, 32, 32, 3)         4800      \n",
      "=================================================================\n",
      "Total params: 1,144,256\n",
      "Trainable params: 1,111,104\n",
      "Non-trainable params: 33,152\n",
      "_________________________________________________________________\n"
     ]
    }
   ],
   "source": [
    "model = generator_model()\n",
    "model.summary()"
   ]
  },
  {
   "cell_type": "code",
   "execution_count": 147,
   "metadata": {},
   "outputs": [
    {
     "data": {
      "image/png": "[encoded data removed]",
      "text/plain": [
       "<Figure size 1080x432 with 2 Axes>"
      ]
     },
     "metadata": {
      "needs_background": "light"
     },
     "output_type": "display_data"
    }
   ],
   "source": [
    "noise = tf.random.normal([3,100])\n",
    "\n",
    "generated_image = generator(noise, training=False)\n",
    "generated_image.shape\n",
    "\n",
    "plt.imshow(generated_image[0, :, :, 0], cmap='rainbow')\n",
    "plt.colorbar()\n",
    "plt.show()"
   ]
  },
  {
   "cell_type": "code",
   "execution_count": 148,
   "metadata": {},
   "outputs": [
    {
     "name": "stdout",
     "output_type": "stream",
     "text": [
      "판별자 모델의 생성 함수 세팅 완료\n"
     ]
    }
   ],
   "source": [
    "def discriminator_model():\n",
    "\n",
    "    # Start\n",
    "    model = tf.keras.Sequential()\n",
    "\n",
    "    #First: Conv2D Layer\n",
    "    #여기서의 인풋 사이즈는 (32,32,3)의 이미지이다.\n",
    "    model.add(layers.Conv2D(64, (5, 5), strides=(2, 2), padding='same', input_shape=[32, 32, 3]))\n",
    "    model.add(layers.LeakyReLU())\n",
    "    model.add(layers.Dropout(0.3))\n",
    "\n",
    "    # Second: Conv2D Layer\n",
    "    model.add(layers.Conv2D(128, (5, 5), strides=(2, 2), padding='same'))\n",
    "    model.add(layers.LeakyReLU())\n",
    "    model.add(layers.Dropout(0.3))\n",
    "\n",
    "    # Third: Flatten Layer\n",
    "    model.add(layers.Flatten())\n",
    "\n",
    "    # Fourth: Dense Layer\n",
    "    model.add(layers.Dense(1))\n",
    "\n",
    "    return model\n",
    "\n",
    "print('판별자 모델의 생성 함수 세팅 완료')"
   ]
  },
  {
   "cell_type": "code",
   "execution_count": 149,
   "metadata": {},
   "outputs": [
    {
     "name": "stdout",
     "output_type": "stream",
     "text": [
      "Model: \"sequential_10\"\n",
      "_________________________________________________________________\n",
      "Layer (type)                 Output Shape              Param #   \n",
      "=================================================================\n",
      "conv2d_10 (Conv2D)           (None, 16, 16, 64)        4864      \n",
      "_________________________________________________________________\n",
      "leaky_re_lu_25 (LeakyReLU)   (None, 16, 16, 64)        0         \n",
      "_________________________________________________________________\n",
      "dropout_10 (Dropout)         (None, 16, 16, 64)        0         \n",
      "_________________________________________________________________\n",
      "conv2d_11 (Conv2D)           (None, 8, 8, 128)         204928    \n",
      "_________________________________________________________________\n",
      "leaky_re_lu_26 (LeakyReLU)   (None, 8, 8, 128)         0         \n",
      "_________________________________________________________________\n",
      "dropout_11 (Dropout)         (None, 8, 8, 128)         0         \n",
      "_________________________________________________________________\n",
      "flatten_5 (Flatten)          (None, 8192)              0         \n",
      "_________________________________________________________________\n",
      "dense_10 (Dense)             (None, 1)                 8193      \n",
      "=================================================================\n",
      "Total params: 217,985\n",
      "Trainable params: 217,985\n",
      "Non-trainable params: 0\n",
      "_________________________________________________________________\n"
     ]
    }
   ],
   "source": [
    "discriminator = discriminator_model()\n",
    "\n",
    "discriminator.summary()"
   ]
  },
  {
   "cell_type": "code",
   "execution_count": 150,
   "metadata": {},
   "outputs": [
    {
     "data": {
      "text/plain": [
       "<tf.Tensor: shape=(3, 1), dtype=float32, numpy=\n",
       "array([[ 0.03220152],\n",
       "       [-0.16468021],\n",
       "       [-0.0716283 ]], dtype=float32)>"
      ]
     },
     "execution_count": 150,
     "metadata": {},
     "output_type": "execute_result"
    }
   ],
   "source": [
    "decision = fixed_discriminator(generated_image, training=False)\n",
    "decision"
   ]
  },
  {
   "cell_type": "code",
   "execution_count": 151,
   "metadata": {},
   "outputs": [
    {
     "data": {
      "text/plain": [
       "TensorShape([16, 100])"
      ]
     },
     "execution_count": 151,
     "metadata": {},
     "output_type": "execute_result"
    }
   ],
   "source": [
    "noise_dim = 100\n",
    "num_examples_to_generate = 16\n",
    "\n",
    "seed = tf.random.normal([num_examples_to_generate, noise_dim])\n",
    "seed.shape"
   ]
  },
  {
   "cell_type": "markdown",
   "metadata": {},
   "source": [
    "###### 개선점에 따라, 더 많은 에포크를 적용하였다."
   ]
  },
  {
   "cell_type": "code",
   "execution_count": null,
   "metadata": {},
   "outputs": [],
   "source": [
    "#체크포인트 간격\n",
    "save_every = 20\n",
    "\n",
    "#50에포크 돌림\n",
    "EPOCHS = 200"
   ]
  },
  {
   "cell_type": "code",
   "execution_count": null,
   "metadata": {},
   "outputs": [],
   "source": [
    "%%time\n",
    "train(train_dataset, EPOCHS, save_every)"
   ]
  },
  {
   "cell_type": "code",
   "execution_count": null,
   "metadata": {},
   "outputs": [],
   "source": []
  },
  {
   "cell_type": "code",
   "execution_count": null,
   "metadata": {},
   "outputs": [],
   "source": []
  },
  {
   "cell_type": "code",
   "execution_count": null,
   "metadata": {},
   "outputs": [],
   "source": []
  },
  {
   "cell_type": "code",
   "execution_count": null,
   "metadata": {},
   "outputs": [],
   "source": []
  },
  {
   "cell_type": "code",
   "execution_count": null,
   "metadata": {},
   "outputs": [],
   "source": []
  },
  {
   "cell_type": "markdown",
   "metadata": {},
   "source": []
  }
 ],
 "metadata": {
  "kernelspec": {
   "display_name": "aiffel",
   "language": "python",
   "name": "aiffel"
  },
  "language_info": {
   "codemirror_mode": {
    "name": "ipython",
    "version": 3
   },
   "file_extension": ".py",
   "mimetype": "text/x-python",
   "name": "python",
   "nbconvert_exporter": "python",
   "pygments_lexer": "ipython3",
   "version": "3.7.9"
  }
 },
 "nbformat": 4,
 "nbformat_minor": 4
}
